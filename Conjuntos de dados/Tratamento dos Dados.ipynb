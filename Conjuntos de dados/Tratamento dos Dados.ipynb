{
 "cells": [
  {
   "cell_type": "markdown",
   "metadata": {},
   "source": [
    "## Projeto Final Redes Neurais: Propriedades Mecânicas de Materiais\n",
    "\n",
    "#### Trio: csv_Computeiros_sinápticos_virtuais \n",
    "\n",
    "#### Integrantes: Diogo Pereira de Lima Carvalho, José David Sales e Mayllon Emmanoel Pequeno"
   ]
  },
  {
   "cell_type": "markdown",
   "metadata": {},
   "source": [
    "<p style=\"text-align: justify;\"> Esse notebook consiste no tratamentos do conjunto de dados escolhido se utilizar, posteriormente, uma rede neural multilayer perceptron (MLP). Os dados, obtidos no Kaggle, são em sua maioria sobre propriedades mecânicas de materiais específicos [1]. Primordialmente, importou-se as bibliotecas utilizadas e o dataset."
   ]
  },
  {
   "cell_type": "code",
   "execution_count": 2,
   "metadata": {},
   "outputs": [],
   "source": [
    "import pandas as pd\n",
    "import numpy as np"
   ]
  },
  {
   "cell_type": "code",
   "execution_count": 3,
   "metadata": {},
   "outputs": [],
   "source": [
    "df = pd.read_csv(\"../Conjuntos de dados/Data.csv\")"
   ]
  },
  {
   "cell_type": "code",
   "execution_count": 4,
   "metadata": {},
   "outputs": [
    {
     "data": {
      "text/html": [
       "<div>\n",
       "<style scoped>\n",
       "    .dataframe tbody tr th:only-of-type {\n",
       "        vertical-align: middle;\n",
       "    }\n",
       "\n",
       "    .dataframe tbody tr th {\n",
       "        vertical-align: top;\n",
       "    }\n",
       "\n",
       "    .dataframe thead th {\n",
       "        text-align: right;\n",
       "    }\n",
       "</style>\n",
       "<table border=\"1\" class=\"dataframe\">\n",
       "  <thead>\n",
       "    <tr style=\"text-align: right;\">\n",
       "      <th></th>\n",
       "      <th>Std</th>\n",
       "      <th>ID</th>\n",
       "      <th>Material</th>\n",
       "      <th>Heat treatment</th>\n",
       "      <th>Su</th>\n",
       "      <th>Sy</th>\n",
       "      <th>A5</th>\n",
       "      <th>Bhn</th>\n",
       "      <th>E</th>\n",
       "      <th>G</th>\n",
       "      <th>mu</th>\n",
       "      <th>Ro</th>\n",
       "      <th>pH</th>\n",
       "      <th>Desc</th>\n",
       "      <th>HV</th>\n",
       "    </tr>\n",
       "  </thead>\n",
       "  <tbody>\n",
       "    <tr>\n",
       "      <th>0</th>\n",
       "      <td>ANSI</td>\n",
       "      <td>D8894772B88F495093C43AF905AB6373</td>\n",
       "      <td>Steel SAE 1015</td>\n",
       "      <td>as-rolled</td>\n",
       "      <td>421</td>\n",
       "      <td>314</td>\n",
       "      <td>39.0</td>\n",
       "      <td>126.0</td>\n",
       "      <td>207000</td>\n",
       "      <td>79000</td>\n",
       "      <td>0.3</td>\n",
       "      <td>7860</td>\n",
       "      <td>NaN</td>\n",
       "      <td>NaN</td>\n",
       "      <td>NaN</td>\n",
       "    </tr>\n",
       "    <tr>\n",
       "      <th>1</th>\n",
       "      <td>ANSI</td>\n",
       "      <td>05982AC66F064F9EBC709E7A4164613A</td>\n",
       "      <td>Steel SAE 1015</td>\n",
       "      <td>normalized</td>\n",
       "      <td>424</td>\n",
       "      <td>324</td>\n",
       "      <td>37.0</td>\n",
       "      <td>121.0</td>\n",
       "      <td>207000</td>\n",
       "      <td>79000</td>\n",
       "      <td>0.3</td>\n",
       "      <td>7860</td>\n",
       "      <td>NaN</td>\n",
       "      <td>NaN</td>\n",
       "      <td>NaN</td>\n",
       "    </tr>\n",
       "    <tr>\n",
       "      <th>2</th>\n",
       "      <td>ANSI</td>\n",
       "      <td>356D6E63FF9A49A3AB23BF66BAC85DC3</td>\n",
       "      <td>Steel SAE 1015</td>\n",
       "      <td>annealed</td>\n",
       "      <td>386</td>\n",
       "      <td>284</td>\n",
       "      <td>37.0</td>\n",
       "      <td>111.0</td>\n",
       "      <td>207000</td>\n",
       "      <td>79000</td>\n",
       "      <td>0.3</td>\n",
       "      <td>7860</td>\n",
       "      <td>NaN</td>\n",
       "      <td>NaN</td>\n",
       "      <td>NaN</td>\n",
       "    </tr>\n",
       "    <tr>\n",
       "      <th>3</th>\n",
       "      <td>ANSI</td>\n",
       "      <td>1C758F8714AC4E0D9BD8D8AE1625AECD</td>\n",
       "      <td>Steel SAE 1020</td>\n",
       "      <td>as-rolled</td>\n",
       "      <td>448</td>\n",
       "      <td>331</td>\n",
       "      <td>36.0</td>\n",
       "      <td>143.0</td>\n",
       "      <td>207000</td>\n",
       "      <td>79000</td>\n",
       "      <td>0.3</td>\n",
       "      <td>7860</td>\n",
       "      <td>NaN</td>\n",
       "      <td>NaN</td>\n",
       "      <td>NaN</td>\n",
       "    </tr>\n",
       "    <tr>\n",
       "      <th>4</th>\n",
       "      <td>ANSI</td>\n",
       "      <td>DCE10036FC1946FC8C9108D598D116AD</td>\n",
       "      <td>Steel SAE 1020</td>\n",
       "      <td>normalized</td>\n",
       "      <td>441</td>\n",
       "      <td>346</td>\n",
       "      <td>35.8</td>\n",
       "      <td>131.0</td>\n",
       "      <td>207000</td>\n",
       "      <td>79000</td>\n",
       "      <td>0.3</td>\n",
       "      <td>7860</td>\n",
       "      <td>550.0</td>\n",
       "      <td>NaN</td>\n",
       "      <td>NaN</td>\n",
       "    </tr>\n",
       "  </tbody>\n",
       "</table>\n",
       "</div>"
      ],
      "text/plain": [
       "    Std                                ID        Material Heat treatment   Su  \\\n",
       "0  ANSI  D8894772B88F495093C43AF905AB6373  Steel SAE 1015      as-rolled  421   \n",
       "1  ANSI  05982AC66F064F9EBC709E7A4164613A  Steel SAE 1015     normalized  424   \n",
       "2  ANSI  356D6E63FF9A49A3AB23BF66BAC85DC3  Steel SAE 1015       annealed  386   \n",
       "3  ANSI  1C758F8714AC4E0D9BD8D8AE1625AECD  Steel SAE 1020      as-rolled  448   \n",
       "4  ANSI  DCE10036FC1946FC8C9108D598D116AD  Steel SAE 1020     normalized  441   \n",
       "\n",
       "    Sy    A5    Bhn       E      G   mu    Ro     pH Desc  HV  \n",
       "0  314  39.0  126.0  207000  79000  0.3  7860    NaN  NaN NaN  \n",
       "1  324  37.0  121.0  207000  79000  0.3  7860    NaN  NaN NaN  \n",
       "2  284  37.0  111.0  207000  79000  0.3  7860    NaN  NaN NaN  \n",
       "3  331  36.0  143.0  207000  79000  0.3  7860    NaN  NaN NaN  \n",
       "4  346  35.8  131.0  207000  79000  0.3  7860  550.0  NaN NaN  "
      ]
     },
     "metadata": {},
     "output_type": "display_data"
    },
    {
     "name": "stdout",
     "output_type": "stream",
     "text": [
      "Dimensão do dataset: (1552, 15)\n"
     ]
    }
   ],
   "source": [
    "display(df.head())\n",
    "print(f'Dimensão do dataset: {df.shape}')"
   ]
  },
  {
   "cell_type": "markdown",
   "metadata": {},
   "source": [
    "Os atributos foram rapidamente analisados. Abaixo, há o nome e o <code>dtype</code> de cada um. "
   ]
  },
  {
   "cell_type": "code",
   "execution_count": 5,
   "metadata": {},
   "outputs": [
    {
     "name": "stdout",
     "output_type": "stream",
     "text": [
      "['Std', 'ID', 'Material', 'Heat treatment', 'Su', 'Sy', 'A5', 'Bhn', 'E', 'G', 'mu', 'Ro', 'pH', 'Desc', 'HV']\n"
     ]
    },
    {
     "data": {
      "text/plain": [
       "Std                object\n",
       "ID                 object\n",
       "Material           object\n",
       "Heat treatment     object\n",
       "Su                  int64\n",
       "Sy                 object\n",
       "A5                float64\n",
       "Bhn               float64\n",
       "E                   int64\n",
       "G                   int64\n",
       "mu                float64\n",
       "Ro                  int64\n",
       "pH                float64\n",
       "Desc               object\n",
       "HV                float64\n",
       "dtype: object"
      ]
     },
     "execution_count": 5,
     "metadata": {},
     "output_type": "execute_result"
    }
   ],
   "source": [
    "columns_list = df.columns.tolist()\n",
    "print(columns_list)\n",
    "df.dtypes"
   ]
  },
  {
   "cell_type": "markdown",
   "metadata": {},
   "source": [
    "A partir das descrição do Kaggle, realizou-se a descrição de cada atributo do <i>dataset</i> [1]:\n",
    "\n",
    "<ul style=\"text-align: justify;\">\n",
    "  <li><strong>Std (Standard):</strong> Identificação do padrão nacional que define a especificação do material;</li>\n",
    "  <li><strong>ID (Unique Identification code for the Material):</strong> Código de identificação do material;</li>\n",
    "  <li><strong>Material (Name):</strong> Nome do material utilizado;</li>\n",
    "  <li><strong>Heat Treatment (Method):</strong> Técnica de Tratamento térmico utilizado no material;</li>\n",
    "  <li><strong>Su (Ultimate Tensile Strength in MPa):</strong> Tensão máxima que o material pode suportar por unidade de área antes de se romper, medida em megapascal (MPa);</li>\n",
    "  <li><strong>Sy (Yield Strength in MPa):</strong> Tensão máxima que o material pode suportar por unidade de área antes de sofrer deformação plástica permanente, medida em megapascal (MPa);</li>\n",
    "  <li><strong>A5 (Elongation at Break or Strain as a Percentage):</strong> A quantidade de deformação que um material pode sofrer antes de se romper, expressa como uma porcentagem;</li>\n",
    "  <li><strong>BHN (Brinell Hardness Number in Microhardness Units):</strong> Resistência do material à penetração por um indentador esférico, medida em número de dureza Brinell (HB);</li>\n",
    "  <li><strong>E (Elastic Modulus in MPa):</strong> Resistência do material à deformação elástica, medida em megapascal (MPa);</li>\n",
    "  <li><strong>G (Shear Modulus in MPa):</strong> Rigidez de um material em resposta a tensões de cisalhamento, medida em megapascal (MPa);</li>\n",
    "  <li><strong>mu (Poisson's Ratio in Units of Length):</strong> Relação entre as deformações longitudinais e transversais de um material quando submetido a tensão;</li>\n",
    "  <li><strong>Ro (Density in Kg/m³):</strong> Densidade do material, medida em quilogramas por metro cúbico (kg/m³);</li>\n",
    "  <li><strong>pH (Pressure at Yield in MPa):</strong> Pressão exercida sobre o material no ponto em que ele começa a deformar permanentemente;</li>\n",
    "  <li><strong>Desc (Description of the Material):</strong> Informações adicionais sobre o material;</li>\n",
    "  <li><strong>HV (Vickers Hardness Number):</strong> Uma medida da dureza de um material determinada pela capacidade de resistir à deformação sob carga, usando um teste de dureza Vickers.</li>\n",
    "</ul>"
   ]
  },
  {
   "cell_type": "markdown",
   "metadata": {},
   "source": [
    "Analisou-se então o número de valores faltantes em cada atributo:"
   ]
  },
  {
   "cell_type": "code",
   "execution_count": 6,
   "metadata": {},
   "outputs": [
    {
     "name": "stdout",
     "output_type": "stream",
     "text": [
      "O atributo 'Std' apresenta 0 valores faltantes\n",
      "O atributo 'ID' apresenta 0 valores faltantes\n",
      "O atributo 'Material' apresenta 0 valores faltantes\n",
      "O atributo 'Heat treatment' apresenta 750 valores faltantes\n",
      "O atributo 'Su' apresenta 0 valores faltantes\n",
      "O atributo 'Sy' apresenta 0 valores faltantes\n",
      "O atributo 'A5' apresenta 206 valores faltantes\n",
      "O atributo 'Bhn' apresenta 1089 valores faltantes\n",
      "O atributo 'E' apresenta 0 valores faltantes\n",
      "O atributo 'G' apresenta 0 valores faltantes\n",
      "O atributo 'mu' apresenta 0 valores faltantes\n",
      "O atributo 'Ro' apresenta 0 valores faltantes\n",
      "O atributo 'pH' apresenta 1359 valores faltantes\n",
      "O atributo 'Desc' apresenta 571 valores faltantes\n",
      "O atributo 'HV' apresenta 1387 valores faltantes\n"
     ]
    }
   ],
   "source": [
    "for i in columns_list:\n",
    "    print(f\"\"\"O atributo '{i}' apresenta {df[i].isna().sum()} valores faltantes\"\"\")"
   ]
  },
  {
   "cell_type": "markdown",
   "metadata": {},
   "source": [
    "<p style=\"text-align: justify;\"> A partir das informações acima, os atributos <i>Heat treatment</i>, <i>A5</i>, <i>Bhn</i>, <i>pH</i>, <i>Desc</i> e <i>HV</i> foram removidos por conter muitos valores nulos. Além disso, o atributo <i>Std</i> aparenta-se como desnecessário, uma vez que se refere apenas a qual padrão nacional foi utilizado para especificação do material. Da mesma forma, o atributo <i>ID</i>, que refere-se apenas a um valor de identificação para cada material, foi deletado por não haver utilidade para uso de métodos de <code>Machine Learning</code>. Por fim, o atributo <i>Material</i> também foi deletado, uma vez que o número de rótulos é bem próximo ao número de exemplos, sendo potencialmente desnecessário, veja:"
   ]
  },
  {
   "cell_type": "code",
   "execution_count": 7,
   "metadata": {},
   "outputs": [
    {
     "name": "stdout",
     "output_type": "stream",
     "text": [
      "Número de rótulos do atributo 'Material:' 1225\n"
     ]
    }
   ],
   "source": [
    "material_labels = df['Material'].drop_duplicates().tolist()\n",
    "print(f\"\"\"Número de rótulos do atributo 'Material:' {len(material_labels)}\"\"\")"
   ]
  },
  {
   "cell_type": "markdown",
   "metadata": {},
   "source": [
    "<p style=\"text-align: justify;\"> Por fim, sobram 6 atributos, dentro os quais o atributo Sy, que determina a tensão máxima que o material pode suportar antes de apresentar deformação plástica permanente, foi escolhido como target. "
   ]
  },
  {
   "cell_type": "code",
   "execution_count": 17,
   "metadata": {},
   "outputs": [
    {
     "data": {
      "text/plain": [
       "Su      Int64\n",
       "Sy      Int64\n",
       "E       Int64\n",
       "G       Int64\n",
       "mu    Float64\n",
       "Ro      Int64\n",
       "dtype: object"
      ]
     },
     "execution_count": 17,
     "metadata": {},
     "output_type": "execute_result"
    }
   ],
   "source": [
    "df = df.reindex(columns=['Su', 'Sy', 'E', 'G', 'mu', 'Ro']).reset_index(drop=True)\n",
    "df.dtypes"
   ]
  },
  {
   "cell_type": "markdown",
   "metadata": {},
   "source": [
    "<p style=\"text-align: justify;\"> Acima, verifica-se uma divergência de tipos para o <i>target</i> Sy, a mesma estando classificada como objeto. Foi então, excluído valores não numéricos (<code>string</code>), os quais podem ser vistos abaixo. Além disso, uma vez que não se havia valores do tipo <code>float</code>, os valores numéricos foram todos transformados para o tipo <i>int</i>."
   ]
  },
  {
   "cell_type": "code",
   "execution_count": 9,
   "metadata": {},
   "outputs": [
    {
     "name": "stdout",
     "output_type": "stream",
     "text": [
      "Há 0 valores do tipo float\n"
     ]
    }
   ],
   "source": [
    "for i in range(len(df['Sy'])):\n",
    "    count = 0\n",
    "    if isinstance(i, float):\n",
    "        count += 1\n",
    "print(f'Há {count} valores do tipo float')"
   ]
  },
  {
   "cell_type": "code",
   "execution_count": 10,
   "metadata": {},
   "outputs": [
    {
     "name": "stdout",
     "output_type": "stream",
     "text": [
      "280 max\n",
      "240 max\n",
      "210 max\n",
      "250 max\n",
      "210 max\n",
      "280 max\n",
      "240 max\n",
      "225 max\n"
     ]
    }
   ],
   "source": [
    "for i in range(len(df['Sy'])):\n",
    "    sting_digito = df['Sy'][i]\n",
    "    if sting_digito.isdigit() is False:\n",
    "        print(df['Sy'][i])\n",
    "        df = df.drop(labels=i)\n",
    "    if sting_digito.isdigit():\n",
    "        df.loc[i, 'Sy'] = int(df['Sy'][i])\n",
    "df = df.reset_index(drop= True)"
   ]
  },
  {
   "cell_type": "markdown",
   "metadata": {},
   "source": [
    "<p style=\"text-align: justify;\"> Acima, percebe-se que os rótulos não numéricos consistem na escrita do números e de \"max\" a posterior. De qualquer forma, como se tratam de poucos exemplos (8), tais com esses rótulos foram apagados. A partir disso, utilizou-se o método <code>convert_dtypes()</code> para, por fim, corrigit o tipo do ródulo do <i>target</i> Sy."
   ]
  },
  {
   "cell_type": "code",
   "execution_count": 11,
   "metadata": {},
   "outputs": [
    {
     "data": {
      "text/plain": [
       "Su      int64\n",
       "Sy     object\n",
       "E       int64\n",
       "G       int64\n",
       "mu    float64\n",
       "Ro      int64\n",
       "dtype: object"
      ]
     },
     "execution_count": 11,
     "metadata": {},
     "output_type": "execute_result"
    }
   ],
   "source": [
    "df.dtypes"
   ]
  },
  {
   "cell_type": "code",
   "execution_count": 12,
   "metadata": {},
   "outputs": [
    {
     "data": {
      "text/plain": [
       "Su      Int64\n",
       "Sy      Int64\n",
       "E       Int64\n",
       "G       Int64\n",
       "mu    Float64\n",
       "Ro      Int64\n",
       "dtype: object"
      ]
     },
     "execution_count": 12,
     "metadata": {},
     "output_type": "execute_result"
    }
   ],
   "source": [
    "df = df.convert_dtypes()\n",
    "df.dtypes"
   ]
  },
  {
   "cell_type": "code",
   "execution_count": 16,
   "metadata": {},
   "outputs": [
    {
     "data": {
      "text/html": [
       "<div>\n",
       "<style scoped>\n",
       "    .dataframe tbody tr th:only-of-type {\n",
       "        vertical-align: middle;\n",
       "    }\n",
       "\n",
       "    .dataframe tbody tr th {\n",
       "        vertical-align: top;\n",
       "    }\n",
       "\n",
       "    .dataframe thead th {\n",
       "        text-align: right;\n",
       "    }\n",
       "</style>\n",
       "<table border=\"1\" class=\"dataframe\">\n",
       "  <thead>\n",
       "    <tr style=\"text-align: right;\">\n",
       "      <th></th>\n",
       "      <th>Su</th>\n",
       "      <th>Sy</th>\n",
       "      <th>E</th>\n",
       "      <th>G</th>\n",
       "      <th>mu</th>\n",
       "      <th>Ro</th>\n",
       "    </tr>\n",
       "  </thead>\n",
       "  <tbody>\n",
       "    <tr>\n",
       "      <th>0</th>\n",
       "      <td>421</td>\n",
       "      <td>314</td>\n",
       "      <td>207000</td>\n",
       "      <td>79000</td>\n",
       "      <td>0.3</td>\n",
       "      <td>7860</td>\n",
       "    </tr>\n",
       "    <tr>\n",
       "      <th>1</th>\n",
       "      <td>424</td>\n",
       "      <td>324</td>\n",
       "      <td>207000</td>\n",
       "      <td>79000</td>\n",
       "      <td>0.3</td>\n",
       "      <td>7860</td>\n",
       "    </tr>\n",
       "    <tr>\n",
       "      <th>2</th>\n",
       "      <td>386</td>\n",
       "      <td>284</td>\n",
       "      <td>207000</td>\n",
       "      <td>79000</td>\n",
       "      <td>0.3</td>\n",
       "      <td>7860</td>\n",
       "    </tr>\n",
       "    <tr>\n",
       "      <th>3</th>\n",
       "      <td>448</td>\n",
       "      <td>331</td>\n",
       "      <td>207000</td>\n",
       "      <td>79000</td>\n",
       "      <td>0.3</td>\n",
       "      <td>7860</td>\n",
       "    </tr>\n",
       "    <tr>\n",
       "      <th>4</th>\n",
       "      <td>441</td>\n",
       "      <td>346</td>\n",
       "      <td>207000</td>\n",
       "      <td>79000</td>\n",
       "      <td>0.3</td>\n",
       "      <td>7860</td>\n",
       "    </tr>\n",
       "  </tbody>\n",
       "</table>\n",
       "</div>"
      ],
      "text/plain": [
       "    Su   Sy       E      G   mu    Ro\n",
       "0  421  314  207000  79000  0.3  7860\n",
       "1  424  324  207000  79000  0.3  7860\n",
       "2  386  284  207000  79000  0.3  7860\n",
       "3  448  331  207000  79000  0.3  7860\n",
       "4  441  346  207000  79000  0.3  7860"
      ]
     },
     "execution_count": 16,
     "metadata": {},
     "output_type": "execute_result"
    }
   ],
   "source": [
    "df.head()"
   ]
  },
  {
   "cell_type": "markdown",
   "metadata": {},
   "source": [
    "<p style=\"text-align: justify;\"> Após a conversão de tipos para termos todas as colunas com atributos numéricos, o <code>dataset</code> tratado foi salvo em um arquivo do tipo \"pickle\"."
   ]
  },
  {
   "cell_type": "code",
   "execution_count": 15,
   "metadata": {},
   "outputs": [],
   "source": [
    "df.to_pickle(\"Dataset.pickle\")"
   ]
  },
  {
   "cell_type": "markdown",
   "metadata": {},
   "source": [
    "### Referências:\n",
    "\n",
    "[1] Materials and their Mechanical Properties, Kaggle, https://www.kaggle.com/datasets/purushottamnawale/materials"
   ]
  }
 ],
 "metadata": {
  "kernelspec": {
   "display_name": "Python 3.10.8 ('ilumpy')",
   "language": "python",
   "name": "python3"
  },
  "language_info": {
   "codemirror_mode": {
    "name": "ipython",
    "version": 3
   },
   "file_extension": ".py",
   "mimetype": "text/x-python",
   "name": "python",
   "nbconvert_exporter": "python",
   "pygments_lexer": "ipython3",
   "version": "3.10.8"
  },
  "vscode": {
   "interpreter": {
    "hash": "8529d5d23f5cbf0c063605dab2c59e7e62347018e6f532e027d68294076af1e8"
   }
  }
 },
 "nbformat": 4,
 "nbformat_minor": 4
}
