{
 "cells": [
  {
   "cell_type": "code",
   "execution_count": 24,
   "metadata": {},
   "outputs": [],
   "source": [
    "import pandas as pd\n",
    "import numpy as np"
   ]
  },
  {
   "cell_type": "code",
   "execution_count": 25,
   "metadata": {},
   "outputs": [],
   "source": [
    "df = pd.read_csv(\"Data.csv\")"
   ]
  },
  {
   "cell_type": "code",
   "execution_count": 26,
   "metadata": {},
   "outputs": [
    {
     "name": "stdout",
     "output_type": "stream",
     "text": [
      "['Std', 'ID', 'Material', 'Heat treatment', 'Su', 'Sy', 'A5', 'Bhn', 'E', 'G', 'mu', 'Ro', 'pH', 'Desc', 'HV']\n"
     ]
    }
   ],
   "source": [
    "lista_colunas = df.columns.tolist()\n",
    "print(lista_colunas)"
   ]
  },
  {
   "cell_type": "code",
   "execution_count": 27,
   "metadata": {},
   "outputs": [],
   "source": [
    "df = df.reindex(columns=['Std', 'Material', 'Su', 'Sy', 'E', 'G', 'mu', 'Ro']).reset_index()"
   ]
  },
  {
   "cell_type": "code",
   "execution_count": null,
   "metadata": {},
   "outputs": [],
   "source": [
    "df.drop(['Std','ID', 'Heat treatment', 'Desc','A5','Bhn','pH','Desc','HV'], axis=1, inplace=True)\n"
   ]
  },
  {
   "cell_type": "code",
   "execution_count": null,
   "metadata": {},
   "outputs": [],
   "source": [
    "from sklearn.tree import DecisionTreeClassifier, export_graphviz\n",
    "import graphviz\n",
    "import pandas as pd\n",
    "\n",
    "# Read the CSV file into a pandas DataFrame\n",
    "df = pd.read_csv('Data.csv')\n",
    "\n",
    "# Merge the first three columns using string concatenation\n",
    "df['Material'] = df[['Std', 'Material', 'Heat treatment']].fillna('').agg(' '.join, axis=1)\n",
    "\n",
    "df['Sy'] = df['Sy'].str.replace(' max', '').astype(int)\n",
    "\n",
    "\n",
    "# Drop the original three columns\n",
    "\n",
    "# Add the 'Use' column\n",
    "df['Use'] = (\n",
    "    (df['Su'].between(336, 505)) &\n",
    "    (df['Sy'].between(251, 376)) &\n",
    "    (df['E'].between(165000, 248000)) &\n",
    "    (df['G'].between(63000, 94000)) &\n",
    "    (df['mu'].between(0.24, 0.36)) &\n",
    "    (df['Ro'].between(6200, 9400))\n",
    ").map({True: 'True', False: 'False'})\n",
    "\n",
    "# Insert the 'Use' column at the second position\n",
    "df.insert(7, 'Use', df.pop('Use'))\n",
    "\n",
    "# Write the updated data to a new file\n",
    "df.to_csv('material.csv', index=False)\n",
    "\n",
    "\n",
    "# Separate the features (X) and labels (y)\n",
    "X = df[['Su', 'Sy', 'E', 'G', 'mu', 'Ro']]\n",
    "y = df['Use']\n"
   ]
  }
 ],
 "metadata": {
  "kernelspec": {
   "display_name": "Python 3.10.8 64-bit",
   "language": "python",
   "name": "python3"
  },
  "language_info": {
   "codemirror_mode": {
    "name": "ipython",
    "version": 3
   },
   "file_extension": ".py",
   "mimetype": "text/x-python",
   "name": "python",
   "nbconvert_exporter": "python",
   "pygments_lexer": "ipython3",
   "version": "3.10.8"
  },
  "orig_nbformat": 4,
  "vscode": {
   "interpreter": {
    "hash": "26de051ba29f2982a8de78e945f0abaf191376122a1563185a90213a26c5da77"
   }
  }
 },
 "nbformat": 4,
 "nbformat_minor": 2
}
