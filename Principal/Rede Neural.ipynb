{
 "cells": [
  {
   "cell_type": "code",
   "execution_count": 20,
   "metadata": {},
   "outputs": [],
   "source": [
    "import lightning as L\n",
    "import matplotlib.pyplot as plt\n",
    "import numpy as np\n",
    "import pandas as pd\n",
    "import torch\n",
    "from scipy import stats\n",
    "from sklearn.metrics import mean_squared_error\n",
    "from objetos_rede_neural import *\n",
    "from lightning.pytorch.loggers import TensorBoardLogger\n",
    "import os"
   ]
  },
  {
   "cell_type": "code",
   "execution_count": 21,
   "metadata": {},
   "outputs": [],
   "source": [
    "TAMANHO_TESTE = 0.1\n",
    "TAMANHO_VALIDACAO = 0.1\n",
    "\n",
    "SEMENTE_ALEATORIA = 0\n",
    "NUM_EPOCAS = 10"
   ]
  },
  {
   "cell_type": "code",
   "execution_count": 22,
   "metadata": {},
   "outputs": [],
   "source": [
    "dm = DataModule(TAMANHO_TESTE, SEMENTE_ALEATORIA)"
   ]
  },
  {
   "cell_type": "code",
   "execution_count": 23,
   "metadata": {},
   "outputs": [
    {
     "name": "stderr",
     "output_type": "stream",
     "text": [
      "GPU available: False, used: False\n",
      "TPU available: False, using: 0 TPU cores\n",
      "IPU available: False, using: 0 IPUs\n",
      "HPU available: False, using: 0 HPUs\n"
     ]
    }
   ],
   "source": [
    "logger = TensorBoardLogger(save_dir=os.getcwd(), version=1, name=\"lightning_logs/\")\n",
    "treinador = L.Trainer(logger=False,enable_checkpointing=True,max_epochs=NUM_EPOCAS)"
   ]
  },
  {
   "cell_type": "code",
   "execution_count": 24,
   "metadata": {},
   "outputs": [],
   "source": [
    "num_dados_de_entrada = 5\n",
    "num_dados_de_saida = 1\n",
    "neuronios_c1 = 10\n",
    "neuronios_c2 = 20\n",
    "neuronios_c3 = 10\n",
    "\n",
    "\n",
    "minha_mlp = MLP(\n",
    "    num_dados_de_entrada, neuronios_c1, neuronios_c2,neuronios_c3, num_dados_de_saida\n",
    ")"
   ]
  },
  {
   "cell_type": "code",
   "execution_count": 25,
   "metadata": {},
   "outputs": [
    {
     "name": "stderr",
     "output_type": "stream",
     "text": [
      "C:\\Users\\jose23038\\AppData\\Roaming\\Python\\Python310\\site-packages\\lightning\\pytorch\\callbacks\\model_checkpoint.py:617: UserWarning: Checkpoint directory c:\\Users\\jose23038\\OneDrive - ILUM ESCOLA DE CIÊNCIA\\Semestre 3 - 2024.1\\Redes-neurais-e-Algoritmos-Geneticos\\Rede Neurais\\Tarefas\\Redes-Neurais\\Principal\\checkpoints exists and is not empty.\n",
      "  rank_zero_warn(f\"Checkpoint directory {dirpath} exists and is not empty.\")\n",
      "\n",
      "  | Name    | Type       | Params\n",
      "---------------------------------------\n",
      "0 | camadas | Sequential | 501   \n",
      "---------------------------------------\n",
      "501       Trainable params\n",
      "0         Non-trainable params\n",
      "501       Total params\n",
      "0.002     Total estimated model params size (MB)\n"
     ]
    },
    {
     "data": {
      "application/vnd.jupyter.widget-view+json": {
       "model_id": "9f6cee5f6cc54665ab2fe22c382b3cb4",
       "version_major": 2,
       "version_minor": 0
      },
      "text/plain": [
       "Sanity Checking: 0it [00:00, ?it/s]"
      ]
     },
     "metadata": {},
     "output_type": "display_data"
    },
    {
     "data": {
      "application/vnd.jupyter.widget-view+json": {
       "model_id": "c225f4a061964526acea0c50e82532e0",
       "version_major": 2,
       "version_minor": 0
      },
      "text/plain": [
       "Training: 0it [00:00, ?it/s]"
      ]
     },
     "metadata": {},
     "output_type": "display_data"
    },
    {
     "data": {
      "application/vnd.jupyter.widget-view+json": {
       "model_id": "0a9c6d795b794bd69ab0a24973ee1982",
       "version_major": 2,
       "version_minor": 0
      },
      "text/plain": [
       "Validation: 0it [00:00, ?it/s]"
      ]
     },
     "metadata": {},
     "output_type": "display_data"
    },
    {
     "data": {
      "application/vnd.jupyter.widget-view+json": {
       "model_id": "e11a8de73c2f480ca9b647939dee661f",
       "version_major": 2,
       "version_minor": 0
      },
      "text/plain": [
       "Validation: 0it [00:00, ?it/s]"
      ]
     },
     "metadata": {},
     "output_type": "display_data"
    },
    {
     "data": {
      "application/vnd.jupyter.widget-view+json": {
       "model_id": "adf41af42a2b4e299600964f23cbcf67",
       "version_major": 2,
       "version_minor": 0
      },
      "text/plain": [
       "Validation: 0it [00:00, ?it/s]"
      ]
     },
     "metadata": {},
     "output_type": "display_data"
    },
    {
     "data": {
      "application/vnd.jupyter.widget-view+json": {
       "model_id": "17fbc94d874545778ad7fbc81f535d40",
       "version_major": 2,
       "version_minor": 0
      },
      "text/plain": [
       "Validation: 0it [00:00, ?it/s]"
      ]
     },
     "metadata": {},
     "output_type": "display_data"
    },
    {
     "data": {
      "application/vnd.jupyter.widget-view+json": {
       "model_id": "169318b916ea41f5b902e5099fdb43c8",
       "version_major": 2,
       "version_minor": 0
      },
      "text/plain": [
       "Validation: 0it [00:00, ?it/s]"
      ]
     },
     "metadata": {},
     "output_type": "display_data"
    },
    {
     "data": {
      "application/vnd.jupyter.widget-view+json": {
       "model_id": "bf92850eaa2a4583b3a779410bd88592",
       "version_major": 2,
       "version_minor": 0
      },
      "text/plain": [
       "Validation: 0it [00:00, ?it/s]"
      ]
     },
     "metadata": {},
     "output_type": "display_data"
    },
    {
     "data": {
      "application/vnd.jupyter.widget-view+json": {
       "model_id": "0d46191e4313424e938bc3e09d93f7b5",
       "version_major": 2,
       "version_minor": 0
      },
      "text/plain": [
       "Validation: 0it [00:00, ?it/s]"
      ]
     },
     "metadata": {},
     "output_type": "display_data"
    },
    {
     "data": {
      "application/vnd.jupyter.widget-view+json": {
       "model_id": "6fdc1b17762c47d6af61fbdd03670c58",
       "version_major": 2,
       "version_minor": 0
      },
      "text/plain": [
       "Validation: 0it [00:00, ?it/s]"
      ]
     },
     "metadata": {},
     "output_type": "display_data"
    },
    {
     "data": {
      "application/vnd.jupyter.widget-view+json": {
       "model_id": "3f72e2701f7441bd91c805e9d376ee77",
       "version_major": 2,
       "version_minor": 0
      },
      "text/plain": [
       "Validation: 0it [00:00, ?it/s]"
      ]
     },
     "metadata": {},
     "output_type": "display_data"
    },
    {
     "data": {
      "application/vnd.jupyter.widget-view+json": {
       "model_id": "e05dddd9f4be4d3486f4de92730f80dd",
       "version_major": 2,
       "version_minor": 0
      },
      "text/plain": [
       "Validation: 0it [00:00, ?it/s]"
      ]
     },
     "metadata": {},
     "output_type": "display_data"
    },
    {
     "name": "stderr",
     "output_type": "stream",
     "text": [
      "`Trainer.fit` stopped: `max_epochs=10` reached.\n"
     ]
    }
   ],
   "source": [
    "treinador.fit(minha_mlp, dm)"
   ]
  },
  {
   "cell_type": "code",
   "execution_count": 26,
   "metadata": {},
   "outputs": [
    {
     "data": {
      "text/plain": [
       "Text(0, 0.5, 'Loss')"
      ]
     },
     "execution_count": 26,
     "metadata": {},
     "output_type": "execute_result"
    },
    {
     "data": {
      "image/png": "[encoded data removed]",
      "text/plain": [
       "<Figure size 640x480 with 1 Axes>"
      ]
     },
     "metadata": {},
     "output_type": "display_data"
    }
   ],
   "source": [
    "figura, eixo = plt.subplots()\n",
    "\n",
    "ca_treino = minha_mlp.curva_aprendizado_treino\n",
    "ca_val = minha_mlp.curva_aprendizado_val\n",
    "\n",
    "eixo.plot(ca_treino, label=\"Treino\")\n",
    "eixo.plot(ca_val, label=\"Validação\")\n",
    "\n",
    "eixo.legend()\n",
    "\n",
    "eixo.set_xlim(left=0)\n",
    "\n",
    "eixo.set_title(\"Curva de aprendizado\")\n",
    "eixo.set_xlabel(\"Época\")\n",
    "eixo.set_ylabel(\"Loss\")"
   ]
  },
  {
   "cell_type": "code",
   "execution_count": 27,
   "metadata": {},
   "outputs": [
    {
     "data": {
      "text/plain": [
       "MLP(\n",
       "  (camadas): Sequential(\n",
       "    (0): Linear(in_features=5, out_features=10, bias=True)\n",
       "    (1): ReLU()\n",
       "    (2): Linear(in_features=10, out_features=20, bias=True)\n",
       "    (3): ReLU()\n",
       "    (4): Linear(in_features=20, out_features=10, bias=True)\n",
       "    (5): ReLU()\n",
       "    (6): Linear(in_features=10, out_features=1, bias=True)\n",
       "  )\n",
       ")"
      ]
     },
     "execution_count": 27,
     "metadata": {},
     "output_type": "execute_result"
    }
   ],
   "source": [
    "minha_mlp.eval()"
   ]
  },
  {
   "cell_type": "code",
   "execution_count": 28,
   "metadata": {},
   "outputs": [
    {
     "name": "stdout",
     "output_type": "stream",
     "text": [
      "274.3958101938679\n"
     ]
    },
    {
     "name": "stderr",
     "output_type": "stream",
     "text": [
      "C:\\Users\\jose23038\\AppData\\Roaming\\Python\\Python310\\site-packages\\sklearn\\metrics\\_regression.py:483: FutureWarning: 'squared' is deprecated in version 1.4 and will be removed in 1.6. To calculate the root mean squared error, use the function'root_mean_squared_error'.\n",
      "  warnings.warn(\n"
     ]
    }
   ],
   "source": [
    "dm.setup(\"test\")\n",
    "\n",
    "with torch.no_grad():\n",
    "    X_true = dm.X_teste\n",
    "\n",
    "    y_true = dm.y_teste\n",
    "    y_true = dm.y_scaler.inverse_transform(y_true)\n",
    "\n",
    "    y_pred = minha_mlp(X_true)\n",
    "    y_pred = dm.y_scaler.inverse_transform(y_pred)\n",
    "\n",
    "    RMSE = mean_squared_error(y_true, y_pred, squared=False)\n",
    "\n",
    "    print(RMSE)"
   ]
  },
  {
   "cell_type": "code",
   "execution_count": 29,
   "metadata": {},
   "outputs": [
    {
     "data": {
      "text/html": [
       "<div>\n",
       "<style scoped>\n",
       "    .dataframe tbody tr th:only-of-type {\n",
       "        vertical-align: middle;\n",
       "    }\n",
       "\n",
       "    .dataframe tbody tr th {\n",
       "        vertical-align: top;\n",
       "    }\n",
       "\n",
       "    .dataframe thead th {\n",
       "        text-align: right;\n",
       "    }\n",
       "</style>\n",
       "<table border=\"1\" class=\"dataframe\">\n",
       "  <thead>\n",
       "    <tr style=\"text-align: right;\">\n",
       "      <th></th>\n",
       "      <th>Su</th>\n",
       "      <th>Sy</th>\n",
       "      <th>E</th>\n",
       "      <th>G</th>\n",
       "      <th>mu</th>\n",
       "      <th>Ro</th>\n",
       "    </tr>\n",
       "  </thead>\n",
       "  <tbody>\n",
       "    <tr>\n",
       "      <th>0</th>\n",
       "      <td>421</td>\n",
       "      <td>314</td>\n",
       "      <td>207000</td>\n",
       "      <td>79000</td>\n",
       "      <td>0.3</td>\n",
       "      <td>7860</td>\n",
       "    </tr>\n",
       "    <tr>\n",
       "      <th>1</th>\n",
       "      <td>424</td>\n",
       "      <td>324</td>\n",
       "      <td>207000</td>\n",
       "      <td>79000</td>\n",
       "      <td>0.3</td>\n",
       "      <td>7860</td>\n",
       "    </tr>\n",
       "    <tr>\n",
       "      <th>2</th>\n",
       "      <td>386</td>\n",
       "      <td>284</td>\n",
       "      <td>207000</td>\n",
       "      <td>79000</td>\n",
       "      <td>0.3</td>\n",
       "      <td>7860</td>\n",
       "    </tr>\n",
       "    <tr>\n",
       "      <th>3</th>\n",
       "      <td>448</td>\n",
       "      <td>331</td>\n",
       "      <td>207000</td>\n",
       "      <td>79000</td>\n",
       "      <td>0.3</td>\n",
       "      <td>7860</td>\n",
       "    </tr>\n",
       "    <tr>\n",
       "      <th>4</th>\n",
       "      <td>441</td>\n",
       "      <td>346</td>\n",
       "      <td>207000</td>\n",
       "      <td>79000</td>\n",
       "      <td>0.3</td>\n",
       "      <td>7860</td>\n",
       "    </tr>\n",
       "    <tr>\n",
       "      <th>...</th>\n",
       "      <td>...</td>\n",
       "      <td>...</td>\n",
       "      <td>...</td>\n",
       "      <td>...</td>\n",
       "      <td>...</td>\n",
       "      <td>...</td>\n",
       "    </tr>\n",
       "    <tr>\n",
       "      <th>1539</th>\n",
       "      <td>600</td>\n",
       "      <td>370</td>\n",
       "      <td>169000</td>\n",
       "      <td>70000</td>\n",
       "      <td>0.2</td>\n",
       "      <td>7160</td>\n",
       "    </tr>\n",
       "    <tr>\n",
       "      <th>1540</th>\n",
       "      <td>700</td>\n",
       "      <td>420</td>\n",
       "      <td>169000</td>\n",
       "      <td>70000</td>\n",
       "      <td>0.2</td>\n",
       "      <td>7160</td>\n",
       "    </tr>\n",
       "    <tr>\n",
       "      <th>1541</th>\n",
       "      <td>800</td>\n",
       "      <td>480</td>\n",
       "      <td>169000</td>\n",
       "      <td>70000</td>\n",
       "      <td>0.2</td>\n",
       "      <td>7160</td>\n",
       "    </tr>\n",
       "    <tr>\n",
       "      <th>1542</th>\n",
       "      <td>400</td>\n",
       "      <td>180</td>\n",
       "      <td>160000</td>\n",
       "      <td>64000</td>\n",
       "      <td>0.27</td>\n",
       "      <td>7160</td>\n",
       "    </tr>\n",
       "    <tr>\n",
       "      <th>1543</th>\n",
       "      <td>500</td>\n",
       "      <td>260</td>\n",
       "      <td>160000</td>\n",
       "      <td>64000</td>\n",
       "      <td>0.27</td>\n",
       "      <td>7160</td>\n",
       "    </tr>\n",
       "  </tbody>\n",
       "</table>\n",
       "<p>1544 rows × 6 columns</p>\n",
       "</div>"
      ],
      "text/plain": [
       "       Su   Sy       E      G    mu    Ro\n",
       "0     421  314  207000  79000   0.3  7860\n",
       "1     424  324  207000  79000   0.3  7860\n",
       "2     386  284  207000  79000   0.3  7860\n",
       "3     448  331  207000  79000   0.3  7860\n",
       "4     441  346  207000  79000   0.3  7860\n",
       "...   ...  ...     ...    ...   ...   ...\n",
       "1539  600  370  169000  70000   0.2  7160\n",
       "1540  700  420  169000  70000   0.2  7160\n",
       "1541  800  480  169000  70000   0.2  7160\n",
       "1542  400  180  160000  64000  0.27  7160\n",
       "1543  500  260  160000  64000  0.27  7160\n",
       "\n",
       "[1544 rows x 6 columns]"
      ]
     },
     "execution_count": 29,
     "metadata": {},
     "output_type": "execute_result"
    }
   ],
   "source": [
    "pd.read_pickle('../Conjuntos de dados/Dataset.pickle')"
   ]
  },
  {
   "cell_type": "code",
   "execution_count": 30,
   "metadata": {},
   "outputs": [
    {
     "data": {
      "image/png": "[encoded data removed]",
      "text/plain": [
       "<Figure size 640x480 with 1 Axes>"
      ]
     },
     "metadata": {},
     "output_type": "display_data"
    }
   ],
   "source": [
    "plt.scatter(y_true.ravel(),y_pred.ravel())\n",
    "plt.ylabel(\"Valor Real\")\n",
    "plt.xlabel(\"Valor Predito\")\n",
    "_ = plt.plot([min(y_true.ravel()), max(y_true.ravel())], [min(y_true.ravel()), max(y_true.ravel())],color = 'gray',linestyle = '--',linewidth = 1)\n"
   ]
  }
 ],
 "metadata": {
  "kernelspec": {
   "display_name": "Python 3.10.8 64-bit",
   "language": "python",
   "name": "python3"
  },
  "language_info": {
   "codemirror_mode": {
    "name": "ipython",
    "version": 3
   },
   "file_extension": ".py",
   "mimetype": "text/x-python",
   "name": "python",
   "nbconvert_exporter": "python",
   "pygments_lexer": "ipython3",
   "version": "3.10.8"
  },
  "orig_nbformat": 4,
  "vscode": {
   "interpreter": {
    "hash": "26de051ba29f2982a8de78e945f0abaf191376122a1563185a90213a26c5da77"
   }
  }
 },
 "nbformat": 4,
 "nbformat_minor": 2
}
